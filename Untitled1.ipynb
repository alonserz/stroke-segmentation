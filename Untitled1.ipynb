{
 "cells": [
  {
   "cell_type": "code",
   "execution_count": null,
   "id": "3a3de2ce-9995-4aca-bb8c-913ced33dd59",
   "metadata": {},
   "outputs": [],
   "source": []
  },
  {
   "cell_type": "code",
   "execution_count": 1,
   "id": "8b4e5744-427b-4004-9ebd-b49e7e375e90",
   "metadata": {},
   "outputs": [],
   "source": [
    "import h5py\n",
    "import numpy as np\n",
    "import torch\n",
    "import seaborn as sns\n",
    "import pandas as pd\n",
    "import matplotlib.pyplot as plt"
   ]
  },
  {
   "cell_type": "code",
   "execution_count": 2,
   "id": "0584e00c-4c18-491b-afdb-94d45aeb7822",
   "metadata": {},
   "outputs": [],
   "source": [
    "train_dataset_path = './data/train_dataset.h5'\n",
    "val_dataset_path = './data/val_dataset.h5'\n",
    "test_dataset_path = './data/test_dataset.h5'\n",
    "full_dataset_path = './data/brainMRI_copy.h5'"
   ]
  },
  {
   "cell_type": "code",
   "execution_count": 3,
   "id": "e34385fb-2d78-44d6-aa01-4960770977b9",
   "metadata": {},
   "outputs": [],
   "source": [
    "with h5py.File(full_dataset_path, 'r') as full_dataset:\n",
    "    images = full_dataset['images'][:]\n",
    "    masks = full_dataset['masks'][:]"
   ]
  },
  {
   "cell_type": "code",
   "execution_count": 4,
   "id": "32ab3a14-ebf1-49cb-bda3-3f208208e44a",
   "metadata": {},
   "outputs": [],
   "source": [
    "del full_dataset"
   ]
  },
  {
   "cell_type": "code",
   "execution_count": 5,
   "id": "9124b5fb-fc80-4138-bb5b-6b27a59f703d",
   "metadata": {},
   "outputs": [
    {
     "data": {
      "text/plain": [
       "(2999, 2, 256, 256)"
      ]
     },
     "execution_count": 5,
     "metadata": {},
     "output_type": "execute_result"
    }
   ],
   "source": [
    "images.shape"
   ]
  },
  {
   "cell_type": "code",
   "execution_count": 6,
   "id": "9362f3ac-ab4b-4f35-adff-a39a3ba76dcb",
   "metadata": {},
   "outputs": [],
   "source": [
    "    \n",
    "has_stroke_masks = []\n",
    "has_stroke_images = []\n",
    "\n",
    "for idx, mask in enumerate(masks):\n",
    "    if np.argmax(mask) > 0:\n",
    "        has_stroke_images.append(images[idx])\n",
    "        has_stroke_masks.append(masks[idx])"
   ]
  },
  {
   "cell_type": "code",
   "execution_count": 7,
   "id": "c9457322-7fdd-4f5b-a52a-98cc6f4f08c4",
   "metadata": {},
   "outputs": [],
   "source": [
    "number_of_patients_with_stroke = len(has_stroke_masks)"
   ]
  },
  {
   "cell_type": "code",
   "execution_count": 8,
   "id": "0ca31998-e36a-490a-9bec-315cf2523ab7",
   "metadata": {},
   "outputs": [],
   "source": [
    "number_of_patients_without_stroke = images.shape[0] - len(has_stroke_masks)"
   ]
  },
  {
   "cell_type": "code",
   "execution_count": 9,
   "id": "84b52565-f573-4102-a956-f60fe886f40f",
   "metadata": {},
   "outputs": [],
   "source": [
    "def countplot_class_elements(without_stroke, with_stroke):\n",
    "    data = {\n",
    "        'Class': ['Нет инсульта', 'Есть инсульт',],\n",
    "        'Count': [without_stroke, with_stroke]\n",
    "    }\n",
    "    \n",
    "    # Create a DataFrame\n",
    "    df = pd.DataFrame(data)\n",
    "    \n",
    "    # Create a bar plot\n",
    "    plt.figure(figsize=(8, 6))\n",
    "\n",
    "    def make_autopct(values):\n",
    "        def my_autopct(pct):\n",
    "            total = sum(values)\n",
    "            val = int(round(pct*total/100.0))\n",
    "            return '{p:.2f}%  ({v:d})'.format(p=pct,v=val)\n",
    "        return my_autopct\n",
    "    \n",
    "    plt.pie(df['Count'], labels=data['Class'], autopct=make_autopct(data['Count'])) "
   ]
  },
  {
   "cell_type": "code",
   "execution_count": 10,
   "id": "9976af5b-1c42-4489-9afa-0a3df207a109",
   "metadata": {},
   "outputs": [
    {
     "data": {
      "image/png": "[encoded data removed]",
      "text/plain": [
       "<Figure size 800x600 with 1 Axes>"
      ]
     },
     "metadata": {},
     "output_type": "display_data"
    }
   ],
   "source": [
    "countplot_class_elements(number_of_patients_without_stroke, number_of_patients_with_stroke)"
   ]
  },
  {
   "cell_type": "code",
   "execution_count": 11,
   "id": "339b8796-0404-4293-9fbb-8f17a706eaae",
   "metadata": {},
   "outputs": [
    {
     "data": {
      "text/plain": [
       "0.7409136378792931"
      ]
     },
     "execution_count": 11,
     "metadata": {},
     "output_type": "execute_result"
    }
   ],
   "source": [
    "number_of_patients_without_stroke / images.shape[0]"
   ]
  },
  {
   "cell_type": "code",
   "execution_count": 12,
   "id": "3466d291-5fc3-43fc-aab5-323b803b9659",
   "metadata": {},
   "outputs": [
    {
     "data": {
      "text/plain": [
       "0.2590863621207069"
      ]
     },
     "execution_count": 12,
     "metadata": {},
     "output_type": "execute_result"
    }
   ],
   "source": [
    "number_of_patients_with_stroke / images.shape[0]"
   ]
  },
  {
   "cell_type": "code",
   "execution_count": 13,
   "id": "1a28f718-95d7-45b4-af9e-6370a2ebdf8d",
   "metadata": {},
   "outputs": [],
   "source": [
    "with h5py.File(train_dataset_path, 'r') as train_dataset:\n",
    "    images = train_dataset['images'][:]\n",
    "    masks = train_dataset['masks'][:]"
   ]
  },
  {
   "cell_type": "code",
   "execution_count": 14,
   "id": "9ad637e9-218c-4e46-9f65-0faa2f604b0c",
   "metadata": {},
   "outputs": [],
   "source": [
    "del train_dataset"
   ]
  },
  {
   "cell_type": "code",
   "execution_count": 15,
   "id": "d283aea8-56c3-4c29-84f6-47fa314e19f8",
   "metadata": {},
   "outputs": [
    {
     "data": {
      "text/plain": [
       "(2925, 2, 256, 256)"
      ]
     },
     "execution_count": 15,
     "metadata": {},
     "output_type": "execute_result"
    }
   ],
   "source": [
    "images.shape"
   ]
  },
  {
   "cell_type": "code",
   "execution_count": 16,
   "id": "aab56875-1924-4ba3-b9e0-c2244bd8b421",
   "metadata": {},
   "outputs": [
    {
     "data": {
      "text/plain": [
       "(2925, 256, 256)"
      ]
     },
     "execution_count": 16,
     "metadata": {},
     "output_type": "execute_result"
    }
   ],
   "source": [
    "masks.shape"
   ]
  },
  {
   "cell_type": "code",
   "execution_count": 17,
   "id": "24d52538-e944-4cbe-8846-f635145cf3b1",
   "metadata": {},
   "outputs": [],
   "source": [
    "has_stroke_masks = []\n",
    "has_stroke_images = []\n",
    "\n",
    "for idx, mask in enumerate(masks):\n",
    "    if np.argmax(mask) > 0:\n",
    "        has_stroke_images.append(images[idx])\n",
    "        has_stroke_masks.append(masks[idx])"
   ]
  },
  {
   "cell_type": "code",
   "execution_count": 18,
   "id": "fe823b11-d296-40c2-b8c2-7b565d119fc6",
   "metadata": {},
   "outputs": [
    {
     "data": {
      "text/plain": [
       "1509"
      ]
     },
     "execution_count": 18,
     "metadata": {},
     "output_type": "execute_result"
    }
   ],
   "source": [
    "len(has_stroke_masks)"
   ]
  },
  {
   "cell_type": "code",
   "execution_count": 19,
   "id": "be455f51-f58b-4133-809a-2ea95d51c146",
   "metadata": {},
   "outputs": [],
   "source": [
    "number_of_patients_without_stroke_train = images.shape[0] - len(has_stroke_masks)"
   ]
  },
  {
   "cell_type": "code",
   "execution_count": 20,
   "id": "d9e4043e-0244-4d2f-b9d7-6795131a1da8",
   "metadata": {},
   "outputs": [],
   "source": [
    "number_of_patients_with_stroke_train = len(has_stroke_masks)"
   ]
  },
  {
   "cell_type": "code",
   "execution_count": 21,
   "id": "fe8095dd-9a82-419c-91e3-b94b5d5f7eb3",
   "metadata": {},
   "outputs": [
    {
     "data": {
      "image/png": "[encoded data removed]",
      "text/plain": [
       "<Figure size 800x600 with 1 Axes>"
      ]
     },
     "metadata": {},
     "output_type": "display_data"
    }
   ],
   "source": [
    "countplot_class_elements(number_of_patients_without_stroke_train, number_of_patients_with_stroke_train)"
   ]
  },
  {
   "cell_type": "code",
   "execution_count": 22,
   "id": "cbcfdebf-d807-454b-aee3-094c5567d709",
   "metadata": {},
   "outputs": [
    {
     "data": {
      "text/plain": [
       "0.4841025641025641"
      ]
     },
     "execution_count": 22,
     "metadata": {},
     "output_type": "execute_result"
    }
   ],
   "source": [
    "number_of_patients_without_stroke_train / images.shape[0]"
   ]
  },
  {
   "cell_type": "code",
   "execution_count": 23,
   "id": "2ed61da2-8a7a-4401-8967-485c623d11ce",
   "metadata": {},
   "outputs": [
    {
     "data": {
      "text/plain": [
       "0.5158974358974359"
      ]
     },
     "execution_count": 23,
     "metadata": {},
     "output_type": "execute_result"
    }
   ],
   "source": [
    "number_of_patients_with_stroke_train / images.shape[0]"
   ]
  },
  {
   "cell_type": "code",
   "execution_count": null,
   "id": "eadb584b-c800-49e5-8eeb-4e905a539a6d",
   "metadata": {},
   "outputs": [],
   "source": []
  }
 ],
 "metadata": {
  "kernelspec": {
   "display_name": "Python 3 (ipykernel)",
   "language": "python",
   "name": "python3"
  },
  "language_info": {
   "codemirror_mode": {
    "name": "ipython",
    "version": 3
   },
   "file_extension": ".py",
   "mimetype": "text/x-python",
   "name": "python",
   "nbconvert_exporter": "python",
   "pygments_lexer": "ipython3",
   "version": "3.12.0"
  }
 },
 "nbformat": 4,
 "nbformat_minor": 5
}
