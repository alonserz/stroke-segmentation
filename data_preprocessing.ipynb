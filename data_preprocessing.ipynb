{
 "cells": [
  {
   "cell_type": "code",
   "execution_count": 13,
   "id": "6cb9bb77-1965-4f49-ab0f-71b46860894f",
   "metadata": {},
   "outputs": [],
   "source": [
    "import h5py\n",
    "import numpy as np\n",
    "import matplotlib.pyplot as plt\n",
    "import albumentations as A\n",
    "from albumentations.pytorch import ToTensorV2\n",
    "from sklearn.model_selection import train_test_split\n",
    "import pathlib\n",
    "from random import sample\n",
    "import torch\n",
    "import pandas as pd"
   ]
  },
  {
   "cell_type": "code",
   "execution_count": 17,
   "id": "0256d204-053e-48c3-b780-832a45fcb489",
   "metadata": {},
   "outputs": [],
   "source": [
    "DATASET_PATH = './data/brainMRI.h5'\n",
    "source_image_tensors = []\n",
    "source_mask_tensors = []"
   ]
  },
  {
   "cell_type": "code",
   "execution_count": 15,
   "id": "10bd7a75-92c8-4341-9234-427896f81255",
   "metadata": {},
   "outputs": [],
   "source": [
    "transform = A.Compose([\n",
    "    A.Resize(256, 256, p = 1.),\n",
    "])"
   ]
  },
  {
   "cell_type": "code",
   "execution_count": 16,
   "id": "0efc60ce-86ff-4f33-b7df-3d21fd369f0e",
   "metadata": {},
   "outputs": [],
   "source": [
    "with h5py.File(DATASET_PATH) as dataset:\n",
    "    images = dataset['images'][:]\n",
    "    masks = dataset['masks'][:]"
   ]
  },
  {
   "cell_type": "code",
   "execution_count": 18,
   "id": "36c7a66f-9687-4360-aa06-71dae2cd3e22",
   "metadata": {},
   "outputs": [],
   "source": [
    "for idx, image in enumerate(images):\n",
    "    image = image.astype(np.float32)\n",
    "    mask = masks[idx].squeeze().astype(np.float32)\n",
    "\n",
    "    image = image.transpose(1, 2, 0)\n",
    "    augmented = transform(image=image, mask=mask)\n",
    "    image = augmented['image']\n",
    "    mask = augmented['mask']\n",
    "    source_image_tensors.append(image.transpose(2, 0, 1))\n",
    "    source_mask_tensors.append(mask)"
   ]
  },
  {
   "cell_type": "code",
   "execution_count": 19,
   "id": "acb2ab58-7c48-4b29-9d67-d03d044ff0b2",
   "metadata": {},
   "outputs": [
    {
     "name": "stdout",
     "output_type": "stream",
     "text": [
      "3676\n"
     ]
    }
   ],
   "source": [
    "print(len(source_image_tensors))"
   ]
  },
  {
   "cell_type": "code",
   "execution_count": 20,
   "id": "003ed8e7-3f0c-400b-b593-fb4541c3c0e2",
   "metadata": {},
   "outputs": [
    {
     "name": "stdout",
     "output_type": "stream",
     "text": [
      "3676\n"
     ]
    }
   ],
   "source": [
    "print(len(source_mask_tensors))"
   ]
  },
  {
   "cell_type": "code",
   "execution_count": 21,
   "id": "24e435c0-79b2-4431-9f89-ea08c5e3dc3f",
   "metadata": {},
   "outputs": [],
   "source": [
    "source_image_tensors_train, source_image_tensors_test, source_mask_tensors_train, source_mask_tensors_test = train_test_split(source_image_tensors, source_mask_tensors, test_size=0.2, random_state = 42)"
   ]
  },
  {
   "cell_type": "code",
   "execution_count": 22,
   "id": "badf1aac-37c7-4373-8031-82a59fd34228",
   "metadata": {},
   "outputs": [],
   "source": [
    "source_image_tensors_train, source_image_tensors_val, source_mask_tensors_train, source_mask_tensors_val = train_test_split(source_image_tensors_train, source_mask_tensors_train, test_size=0.2, random_state = 42)"
   ]
  },
  {
   "cell_type": "code",
   "execution_count": 23,
   "id": "0ae9f3b0-f87d-45eb-a294-261d49cb7f6a",
   "metadata": {},
   "outputs": [
    {
     "data": {
      "text/plain": [
       "2352"
      ]
     },
     "execution_count": 23,
     "metadata": {},
     "output_type": "execute_result"
    }
   ],
   "source": [
    "len(source_image_tensors_train)"
   ]
  },
  {
   "cell_type": "code",
   "execution_count": 24,
   "id": "00dc66aa-9e2f-4b08-ac28-245b3045c96c",
   "metadata": {},
   "outputs": [
    {
     "data": {
      "text/plain": [
       "588"
      ]
     },
     "execution_count": 24,
     "metadata": {},
     "output_type": "execute_result"
    }
   ],
   "source": [
    "len(source_image_tensors_val)"
   ]
  },
  {
   "cell_type": "code",
   "execution_count": 25,
   "id": "7ff897bb-dbdc-4c25-aefe-2c5ed3a4cde4",
   "metadata": {},
   "outputs": [
    {
     "data": {
      "text/plain": [
       "736"
      ]
     },
     "execution_count": 25,
     "metadata": {},
     "output_type": "execute_result"
    }
   ],
   "source": [
    "len(source_image_tensors_test)"
   ]
  },
  {
   "cell_type": "code",
   "execution_count": 26,
   "id": "4dcd50a5-c467-4656-b719-f3b325a0b704",
   "metadata": {},
   "outputs": [],
   "source": [
    "has_stroke_masks = []\n",
    "has_stroke_images = []\n",
    "\n",
    "for idx, mask in enumerate(source_mask_tensors_train):\n",
    "    if torch.argmax(torch.Tensor(mask)).item() > 0:\n",
    "        has_stroke_images.append(source_image_tensors_train[idx])\n",
    "        has_stroke_masks.append(source_mask_tensors_train[idx])\n",
    "\n"
   ]
  },
  {
   "cell_type": "code",
   "execution_count": 27,
   "id": "487587d0-9cc6-422c-8cff-bbe21a70aca1",
   "metadata": {},
   "outputs": [
    {
     "name": "stdout",
     "output_type": "stream",
     "text": [
      "481\n",
      "481\n"
     ]
    }
   ],
   "source": [
    "print(len(has_stroke_masks))\n",
    "print(len(has_stroke_images))"
   ]
  },
  {
   "cell_type": "code",
   "execution_count": 28,
   "id": "070bb63b-0b72-48ff-a716-0288bc903aa8",
   "metadata": {},
   "outputs": [
    {
     "data": {
      "text/plain": [
       "3.8898128898128896"
      ]
     },
     "execution_count": 28,
     "metadata": {},
     "output_type": "execute_result"
    }
   ],
   "source": [
    "(len(source_image_tensors_train) - len(has_stroke_masks)) / len(has_stroke_masks)"
   ]
  },
  {
   "cell_type": "code",
   "execution_count": 29,
   "id": "3e7dc507-4f79-42b6-bdd3-c3f7ec986742",
   "metadata": {},
   "outputs": [],
   "source": [
    "for _ in range(3):\n",
    "    source_image_tensors_train.extend(has_stroke_images)\n",
    "    source_mask_tensors_train.extend(has_stroke_masks)"
   ]
  },
  {
   "cell_type": "code",
   "execution_count": 30,
   "id": "7bf71cce-9854-424e-80cd-ee3bc47709bd",
   "metadata": {},
   "outputs": [],
   "source": [
    "has_stroke_masks = []\n",
    "has_stroke_images = []\n",
    "\n",
    "for idx, mask in enumerate(source_mask_tensors_train):\n",
    "    if np.argmax(mask) > 0:\n",
    "        has_stroke_images.append(source_image_tensors_train[idx])\n",
    "        has_stroke_masks.append(source_mask_tensors_train[idx])\n"
   ]
  },
  {
   "cell_type": "code",
   "execution_count": 31,
   "id": "32961e6e-6a3d-46ea-ad0f-ffb20e74477d",
   "metadata": {},
   "outputs": [
    {
     "data": {
      "text/plain": [
       "1924"
      ]
     },
     "execution_count": 31,
     "metadata": {},
     "output_type": "execute_result"
    }
   ],
   "source": [
    "len(has_stroke_masks)"
   ]
  },
  {
   "cell_type": "code",
   "execution_count": 32,
   "id": "3f56ea7b-ae34-40cc-aa4c-8e9bf186e4c4",
   "metadata": {},
   "outputs": [
    {
     "data": {
      "text/plain": [
       "1924"
      ]
     },
     "execution_count": 32,
     "metadata": {},
     "output_type": "execute_result"
    }
   ],
   "source": [
    "len(has_stroke_images)"
   ]
  },
  {
   "cell_type": "code",
   "execution_count": 33,
   "id": "1ee23792-77d0-49bf-a1ff-0d1fc0ef1595",
   "metadata": {},
   "outputs": [
    {
     "data": {
      "text/plain": [
       "3795"
      ]
     },
     "execution_count": 33,
     "metadata": {},
     "output_type": "execute_result"
    }
   ],
   "source": [
    "len(source_image_tensors_train)"
   ]
  },
  {
   "cell_type": "code",
   "execution_count": 34,
   "id": "3c302bc2-dd1c-41b4-939f-b072c8c09786",
   "metadata": {},
   "outputs": [
    {
     "data": {
      "text/plain": [
       "3795"
      ]
     },
     "execution_count": 34,
     "metadata": {},
     "output_type": "execute_result"
    }
   ],
   "source": [
    "len(source_mask_tensors_train)"
   ]
  },
  {
   "cell_type": "code",
   "execution_count": 35,
   "id": "6ec92683-c5f1-4fd6-a763-1172299d4331",
   "metadata": {},
   "outputs": [],
   "source": [
    "assert len(source_image_tensors_train) == len(source_mask_tensors_train)"
   ]
  },
  {
   "cell_type": "code",
   "execution_count": 37,
   "id": "d656d341-a4c8-4a75-bb75-eb50c5392a3b",
   "metadata": {},
   "outputs": [],
   "source": [
    "assert len(has_stroke_images) == len(has_stroke_masks)"
   ]
  },
  {
   "cell_type": "code",
   "execution_count": 38,
   "id": "4acb49f8-338d-4393-867d-621597bc9669",
   "metadata": {},
   "outputs": [
    {
     "data": {
      "text/plain": [
       "0.4930171277997365"
      ]
     },
     "execution_count": 38,
     "metadata": {},
     "output_type": "execute_result"
    }
   ],
   "source": [
    "(len(source_mask_tensors_train) - len(has_stroke_images)) / len(source_mask_tensors_train)"
   ]
  },
  {
   "cell_type": "code",
   "execution_count": 39,
   "id": "ef49a300-dd40-4d93-aa28-14642c719ad1",
   "metadata": {},
   "outputs": [],
   "source": [
    "with h5py.File('./data/train_dataset.h5', 'w') as dataset:\n",
    "    dataset.create_dataset('images', data = source_image_tensors_train)\n",
    "    dataset.create_dataset('masks', data = source_mask_tensors_train)"
   ]
  },
  {
   "cell_type": "code",
   "execution_count": 40,
   "id": "b2b6eb21-ac93-439a-afa5-182ca21b0f52",
   "metadata": {},
   "outputs": [],
   "source": [
    "with h5py.File('./data/test_dataset_.h5', 'w') as dataset:\n",
    "    dataset.create_dataset('images', data = source_image_tensors_test)\n",
    "    dataset.create_dataset('masks', data = source_mask_tensors_test)"
   ]
  },
  {
   "cell_type": "code",
   "execution_count": 41,
   "id": "751f5af3-695c-47ad-b303-b0fd0f4deda9",
   "metadata": {},
   "outputs": [],
   "source": [
    "with h5py.File('./data/val_dataset_.h5', 'w') as dataset:\n",
    "    dataset.create_dataset('images', data = source_image_tensors_val)\n",
    "    dataset.create_dataset('masks', data = source_mask_tensors_val)"
   ]
  },
  {
   "cell_type": "code",
   "execution_count": 42,
   "id": "f3f50532-9a64-44ae-bd3a-34ae6b4201fa",
   "metadata": {},
   "outputs": [],
   "source": [
    "with h5py.File('./data/train_dataset.h5', 'r') as dataset:\n",
    "    images = dataset['images'][:]\n",
    "    masks = dataset['masks'][:]\n",
    "    \n",
    "has_stroke_masks = []\n",
    "has_stroke_images = []\n",
    "\n",
    "for idx, mask in enumerate(masks):\n",
    "    if torch.argmax(torch.Tensor(mask)).item() > 0:\n",
    "        has_stroke_images.append(images[idx])\n",
    "        has_stroke_masks.append(masks[idx])\n",
    "        \n"
   ]
  },
  {
   "cell_type": "code",
   "execution_count": null,
   "id": "6fb51a25-e55b-4c7e-830b-badff8224253",
   "metadata": {},
   "outputs": [],
   "source": []
  }
 ],
 "metadata": {
  "kernelspec": {
   "display_name": "Python 3 (ipykernel)",
   "language": "python",
   "name": "python3"
  },
  "language_info": {
   "codemirror_mode": {
    "name": "ipython",
    "version": 3
   },
   "file_extension": ".py",
   "mimetype": "text/x-python",
   "name": "python",
   "nbconvert_exporter": "python",
   "pygments_lexer": "ipython3",
   "version": "3.13.5"
  }
 },
 "nbformat": 4,
 "nbformat_minor": 5
}
