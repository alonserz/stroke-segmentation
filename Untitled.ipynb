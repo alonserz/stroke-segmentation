{
 "cells": [
  {
   "cell_type": "code",
   "execution_count": 1,
   "id": "43065b84-0456-4689-9307-1ad5b349469d",
   "metadata": {},
   "outputs": [
    {
     "name": "stderr",
     "output_type": "stream",
     "text": [
      "D:\\Stroke-nn_working\\venv\\Lib\\site-packages\\albumentations\\__init__.py:24: UserWarning: A new version of Albumentations is available: 2.0.7 (you have 1.4.21). Upgrade using: pip install -U albumentations. To disable automatic update checks, set the environment variable NO_ALBUMENTATIONS_UPDATE to 1.\n",
      "  check_for_updates()\n"
     ]
    }
   ],
   "source": [
    "import h5py\n",
    "import albumentations as A\n",
    "from albumentations.pytorch import ToTensorV2\n",
    "import torch\n",
    "import pathlib\n",
    "from random import sample, choice\n",
    "import numpy as np\n",
    "from sklearn.model_selection import train_test_split\n",
    "import pandas as pd\n",
    "import h5py\n",
    "import numpy as np\n",
    "import matplotlib.pyplot as plt\n",
    "import albumentations as A\n",
    "from albumentations.pytorch import ToTensorV2\n",
    "from sklearn.model_selection import train_test_split\n",
    "import pathlib\n",
    "from random import sample\n",
    "import torch\n",
    "import pandas as pd\n",
    "import seaborn as sns"
   ]
  },
  {
   "cell_type": "code",
   "execution_count": 33,
   "id": "50899877-63e6-4a16-9f38-832f09a0cfbb",
   "metadata": {},
   "outputs": [],
   "source": [
    "dataset = './data/brainMRI_copy.h5'"
   ]
  },
  {
   "cell_type": "code",
   "execution_count": 34,
   "id": "3a6e7c36-d802-47c2-ace8-7b9aeaa04540",
   "metadata": {},
   "outputs": [],
   "source": [
    "with h5py.File(dataset, 'r') as dataset:\n",
    "    images = dataset['images'][:]\n",
    "    masks = dataset['masks'][:]"
   ]
  },
  {
   "cell_type": "code",
   "execution_count": 35,
   "id": "664ede64-0d0f-42d3-93e8-839480067e81",
   "metadata": {},
   "outputs": [],
   "source": [
    "del dataset"
   ]
  },
  {
   "cell_type": "code",
   "execution_count": 36,
   "id": "f868f098-2f07-4c58-9e86-e7618be47528",
   "metadata": {},
   "outputs": [],
   "source": [
    "dataset_images = []\n",
    "dataset_masks = []\n",
    "\n",
    "patients_with_stroke_images = []\n",
    "patients_with_stroke_masks = []\n",
    "\n",
    "patients_without_stroke_images = []\n",
    "patients_without_stroke_masks = []"
   ]
  },
  {
   "cell_type": "code",
   "execution_count": 37,
   "id": "3a44112e-427e-4529-8187-0ebd658e9675",
   "metadata": {},
   "outputs": [],
   "source": [
    "for idx in range(len(images)):\n",
    "    if np.argmax(masks[idx]) > 0:\n",
    "        patients_with_stroke_images.append(images[idx])\n",
    "        patients_with_stroke_masks.append(masks[idx])"
   ]
  },
  {
   "cell_type": "code",
   "execution_count": 38,
   "id": "04042524-aada-4389-afe6-0a7de2be45bd",
   "metadata": {},
   "outputs": [
    {
     "data": {
      "text/plain": [
       "777"
      ]
     },
     "execution_count": 38,
     "metadata": {},
     "output_type": "execute_result"
    }
   ],
   "source": [
    "len(patients_with_stroke_images)"
   ]
  },
  {
   "cell_type": "code",
   "execution_count": 39,
   "id": "dcd84bd4-2386-4365-a6b9-05842391e5e0",
   "metadata": {},
   "outputs": [
    {
     "data": {
      "text/plain": [
       "777"
      ]
     },
     "execution_count": 39,
     "metadata": {},
     "output_type": "execute_result"
    }
   ],
   "source": [
    "len(patients_with_stroke_masks)"
   ]
  },
  {
   "cell_type": "code",
   "execution_count": 40,
   "id": "e55f94eb-c435-4f26-b240-a2a7c009c960",
   "metadata": {},
   "outputs": [],
   "source": [
    "for idx in range(len(patients_with_stroke_images)):\n",
    "    image_first_channel = patients_with_stroke_images[idx][0]\n",
    "    image_second_channel = patients_with_stroke_images[idx][1]\n",
    "    image_mask = patients_with_stroke_masks[idx]\n",
    "    \n",
    "    dataset_images.append(image_first_channel)\n",
    "    dataset_images.append(image_second_channel)\n",
    "    dataset_masks.append(image_mask)\n",
    "    dataset_masks.append(image_mask)"
   ]
  },
  {
   "cell_type": "code",
   "execution_count": 41,
   "id": "dfa08984-da3e-4e62-af82-debed45c7a40",
   "metadata": {},
   "outputs": [
    {
     "data": {
      "text/plain": [
       "1554"
      ]
     },
     "execution_count": 41,
     "metadata": {},
     "output_type": "execute_result"
    }
   ],
   "source": [
    "len(dataset_images)"
   ]
  },
  {
   "cell_type": "code",
   "execution_count": 42,
   "id": "0622c8f9-3d98-4689-b8d9-caf2026afe28",
   "metadata": {},
   "outputs": [
    {
     "data": {
      "text/plain": [
       "1554"
      ]
     },
     "execution_count": 42,
     "metadata": {},
     "output_type": "execute_result"
    }
   ],
   "source": [
    "len(dataset_masks)"
   ]
  },
  {
   "cell_type": "code",
   "execution_count": 43,
   "id": "0603bb21-8306-4113-b58a-19572b5e79e8",
   "metadata": {},
   "outputs": [],
   "source": [
    "for idx in range(len(images)):\n",
    "    if np.argmax(masks[idx]) == 0:\n",
    "        patients_without_stroke_images.append(images[idx])\n",
    "        patients_without_stroke_masks.append(masks[idx])"
   ]
  },
  {
   "cell_type": "code",
   "execution_count": 44,
   "id": "1a01282a-4e31-4516-b521-a61ddadd4679",
   "metadata": {},
   "outputs": [
    {
     "data": {
      "text/plain": [
       "2222"
      ]
     },
     "execution_count": 44,
     "metadata": {},
     "output_type": "execute_result"
    }
   ],
   "source": [
    "len(patients_without_stroke_images)"
   ]
  },
  {
   "cell_type": "code",
   "execution_count": 45,
   "id": "f78d3edd-c424-4a34-8da8-b0af6c481fa0",
   "metadata": {},
   "outputs": [
    {
     "data": {
      "text/plain": [
       "2222"
      ]
     },
     "execution_count": 45,
     "metadata": {},
     "output_type": "execute_result"
    }
   ],
   "source": [
    "len(patients_without_stroke_masks)"
   ]
  },
  {
   "cell_type": "code",
   "execution_count": 46,
   "id": "79944ea5-4560-45ca-a798-8d0ada78fde8",
   "metadata": {},
   "outputs": [],
   "source": [
    "patients_without_stroke_images, _, patients_without_stroke_masks, _ = train_test_split(patients_without_stroke_images, patients_without_stroke_masks, test_size=0.3, random_state = 1)"
   ]
  },
  {
   "cell_type": "code",
   "execution_count": 47,
   "id": "3338a4f6-9b03-4801-8622-abae54e55d07",
   "metadata": {},
   "outputs": [
    {
     "data": {
      "text/plain": [
       "1555"
      ]
     },
     "execution_count": 47,
     "metadata": {},
     "output_type": "execute_result"
    }
   ],
   "source": [
    "len(patients_without_stroke_images)"
   ]
  },
  {
   "cell_type": "code",
   "execution_count": 48,
   "id": "ce98391c-bf01-4a9a-87ad-cf3180894ce6",
   "metadata": {},
   "outputs": [
    {
     "data": {
      "text/plain": [
       "1555"
      ]
     },
     "execution_count": 48,
     "metadata": {},
     "output_type": "execute_result"
    }
   ],
   "source": [
    "len(patients_without_stroke_masks)"
   ]
  },
  {
   "cell_type": "code",
   "execution_count": 49,
   "id": "42ccaf63-942b-46ed-9fb9-2ab1c63d8d89",
   "metadata": {},
   "outputs": [],
   "source": [
    "for idx in range(len(patients_without_stroke_images)):\n",
    "    image_first_channel = patients_without_stroke_images[idx][0]\n",
    "    image_second_channel = patients_without_stroke_images[idx][1]\n",
    "    image_mask = patients_without_stroke_masks[idx]\n",
    "\n",
    "    random_choice_image = choice([image_first_channel, image_second_channel])\n",
    "    \n",
    "    dataset_images.append(random_choice_image)\n",
    "    dataset_masks.append(image_mask)"
   ]
  },
  {
   "cell_type": "code",
   "execution_count": 50,
   "id": "6b8e260f-5a69-4d50-8179-56a03908ffc6",
   "metadata": {},
   "outputs": [
    {
     "data": {
      "text/plain": [
       "3109"
      ]
     },
     "execution_count": 50,
     "metadata": {},
     "output_type": "execute_result"
    }
   ],
   "source": [
    "len(dataset_images)"
   ]
  },
  {
   "cell_type": "code",
   "execution_count": 51,
   "id": "92e44dce-18ff-4639-968e-685c87148bfd",
   "metadata": {},
   "outputs": [
    {
     "data": {
      "text/plain": [
       "(3109, 256, 256)"
      ]
     },
     "execution_count": 51,
     "metadata": {},
     "output_type": "execute_result"
    }
   ],
   "source": [
    "np.array(dataset_images).shape"
   ]
  },
  {
   "cell_type": "code",
   "execution_count": 52,
   "id": "b0232a7d-2c94-4d02-9974-8903f9087d15",
   "metadata": {},
   "outputs": [
    {
     "data": {
      "text/plain": [
       "3109"
      ]
     },
     "execution_count": 52,
     "metadata": {},
     "output_type": "execute_result"
    }
   ],
   "source": [
    "len(dataset_masks)"
   ]
  },
  {
   "cell_type": "code",
   "execution_count": 53,
   "id": "1d3dec9d-614f-4240-9d2c-f91b61dd4a8b",
   "metadata": {},
   "outputs": [],
   "source": [
    "train_dataset_images, test_dataset_images, train_dataset_masks, test_dataset_masks = train_test_split(dataset_images, dataset_masks, test_size=0.2, random_state = 42)"
   ]
  },
  {
   "cell_type": "code",
   "execution_count": 55,
   "id": "75c0e73b-afe9-464a-a58f-0c4b1730a037",
   "metadata": {},
   "outputs": [
    {
     "data": {
      "text/plain": [
       "622"
      ]
     },
     "execution_count": 55,
     "metadata": {},
     "output_type": "execute_result"
    }
   ],
   "source": [
    "len(test_dataset_images)"
   ]
  },
  {
   "cell_type": "code",
   "execution_count": 56,
   "id": "7cd228cd-6880-4ac5-9e80-37a176f29db3",
   "metadata": {},
   "outputs": [
    {
     "data": {
      "text/plain": [
       "2487"
      ]
     },
     "execution_count": 56,
     "metadata": {},
     "output_type": "execute_result"
    }
   ],
   "source": [
    "len(train_dataset_images)"
   ]
  },
  {
   "cell_type": "code",
   "execution_count": 57,
   "id": "a2a1aab1-f07d-406f-84b4-5c6f787ccb28",
   "metadata": {},
   "outputs": [],
   "source": [
    "train_dataset_images, val_dataset_images, train_dataset_masks, val_dataset_masks = train_test_split(train_dataset_images, train_dataset_masks, test_size=0.2, random_state = 42)"
   ]
  },
  {
   "cell_type": "code",
   "execution_count": 61,
   "id": "09eea8ab-f3fd-416a-a770-05421da44ae3",
   "metadata": {},
   "outputs": [
    {
     "data": {
      "text/plain": [
       "([<matplotlib.patches.Wedge at 0x27e88a8a2a0>,\n",
       "  <matplotlib.patches.Wedge at 0x27ec531bef0>,\n",
       "  <matplotlib.patches.Wedge at 0x27e88c04d10>],\n",
       " [Text(-0.4675927130532995, 0.9956691492154686, 'Обучающая выборка'),\n",
       "  Text(-0.2071675296968185, -1.0803155162448228, 'Валидационная выборка'),\n",
       "  Text(0.8897880033420611, -0.6467436193025398, 'Тестовая выборка')],\n",
       " [Text(-0.2550505707563452, 0.5430922632084373, '63.98%  (1989)'),\n",
       "  Text(-0.11300047074371918, -0.5892630088608124, '16.02%  (498)'),\n",
       "  Text(0.4853389109138514, -0.3527692468922944, '20.01%  (622)')])"
      ]
     },
     "execution_count": 61,
     "metadata": {},
     "output_type": "execute_result"
    },
    {
     "data": {
      "image/png": "[encoded data removed]",
      "text/plain": [
       "<Figure size 800x600 with 1 Axes>"
      ]
     },
     "metadata": {},
     "output_type": "display_data"
    }
   ],
   "source": [
    "data = {\n",
    "    'Class': ['Обучающая выборка', 'Валидационная выборка', 'Тестовая выборка'],\n",
    "    'Count': [len(train_dataset_images), len(val_dataset_images), len(test_dataset_images)]\n",
    "}\n",
    "\n",
    "# Create a DataFrame\n",
    "df = pd.DataFrame(data)\n",
    "\n",
    "def make_autopct(values):\n",
    "        def my_autopct(pct):\n",
    "            total = sum(values)\n",
    "            val = int(round(pct*total/100.0))\n",
    "            return '{p:.2f}%  ({v:d})'.format(p=pct,v=val)\n",
    "        return my_autopct\n",
    "\n",
    "\n",
    "# Create a bar plot\n",
    "plt.figure(figsize=(8, 6))\n",
    "plt.pie(df['Count'], labels=data['Class'], autopct=make_autopct(data['Count'])) "
   ]
  },
  {
   "cell_type": "code",
   "execution_count": 62,
   "id": "3aef8a1c-92ee-4383-8573-18b8edc7e07c",
   "metadata": {},
   "outputs": [],
   "source": [
    "with h5py.File('./data/test/train_dataset.h5', 'w') as dataset:\n",
    "    dataset.create_dataset('images', data = train_dataset_images)\n",
    "    dataset.create_dataset('masks', data = train_dataset_masks)"
   ]
  },
  {
   "cell_type": "code",
   "execution_count": 63,
   "id": "b126e5eb-9076-4be8-8d41-27fd7166a474",
   "metadata": {},
   "outputs": [],
   "source": [
    "with h5py.File('./data/test/val_dataset.h5', 'w') as dataset:\n",
    "    dataset.create_dataset('images', data = val_dataset_images)\n",
    "    dataset.create_dataset('masks', data = val_dataset_masks)"
   ]
  },
  {
   "cell_type": "code",
   "execution_count": 64,
   "id": "cbd25743-13f2-4ffe-8e5f-9bd702a18fcf",
   "metadata": {},
   "outputs": [],
   "source": [
    "with h5py.File('./data/test/test_dataset.h5', 'w') as dataset:\n",
    "    dataset.create_dataset('images', data = test_dataset_images)\n",
    "    dataset.create_dataset('masks', data = test_dataset_masks)"
   ]
  },
  {
   "cell_type": "code",
   "execution_count": 2,
   "id": "bf6b1ec3-5f49-4952-93b4-49abc8a30aef",
   "metadata": {},
   "outputs": [],
   "source": [
    "with h5py.File('./data/test/train_dataset.h5', 'r') as dataset:\n",
    "    images = dataset['images'][:]\n",
    "    masks = dataset['masks'][:]"
   ]
  },
  {
   "cell_type": "code",
   "execution_count": 3,
   "id": "2d270a76-a7b2-46b8-875e-0250f410083b",
   "metadata": {},
   "outputs": [],
   "source": [
    "del dataset"
   ]
  },
  {
   "cell_type": "code",
   "execution_count": 4,
   "id": "33095cd4-a859-403b-ae25-11af92aac50d",
   "metadata": {},
   "outputs": [
    {
     "data": {
      "text/plain": [
       "1989"
      ]
     },
     "execution_count": 4,
     "metadata": {},
     "output_type": "execute_result"
    }
   ],
   "source": [
    "len(images)"
   ]
  },
  {
   "cell_type": "code",
   "execution_count": 5,
   "id": "b6e5f269-938a-409e-bd1c-4129340de077",
   "metadata": {},
   "outputs": [],
   "source": [
    "def countplot_class_elements(without_stroke, with_stroke):\n",
    "    data = {\n",
    "        'Class': ['Нет инсульта', 'Есть инсульт',],\n",
    "        'Count': [without_stroke, with_stroke]\n",
    "    }\n",
    "    \n",
    "    # Create a DataFrame\n",
    "    df = pd.DataFrame(data)\n",
    "    \n",
    "    # Create a bar plot\n",
    "    plt.figure(figsize=(8, 6))\n",
    "\n",
    "    def make_autopct(values):\n",
    "        def my_autopct(pct):\n",
    "            total = sum(values)\n",
    "            val = int(round(pct*total/100.0))\n",
    "            return '{p:.2f}%  ({v:d})'.format(p=pct,v=val)\n",
    "        return my_autopct\n",
    "    \n",
    "    plt.pie(df['Count'], labels=data['Class'], autopct=make_autopct(data['Count'])) "
   ]
  },
  {
   "cell_type": "code",
   "execution_count": 6,
   "id": "5d437f87-1a82-4a9b-b435-73e5bb35acaa",
   "metadata": {},
   "outputs": [],
   "source": [
    "has_stroke_masks = []\n",
    "has_stroke_images = []\n",
    "\n",
    "for idx, mask in enumerate(masks):\n",
    "    if torch.argmax(torch.Tensor(mask)).item() > 0:\n",
    "        has_stroke_images.append(images[idx])\n",
    "        has_stroke_masks.append(masks[idx])\n",
    "\n"
   ]
  },
  {
   "cell_type": "code",
   "execution_count": 8,
   "id": "b076e5ab-ff8c-43ff-960f-d3439f9c39a6",
   "metadata": {},
   "outputs": [
    {
     "data": {
      "image/png": "[encoded data removed]",
      "text/plain": [
       "<Figure size 800x600 with 1 Axes>"
      ]
     },
     "metadata": {},
     "output_type": "display_data"
    }
   ],
   "source": [
    "countplot_class_elements(len(images) - len(has_stroke_masks), len(has_stroke_images))"
   ]
  },
  {
   "cell_type": "code",
   "execution_count": null,
   "id": "ec89238e-7b9d-474c-ba4a-b7ef4cb04a68",
   "metadata": {},
   "outputs": [],
   "source": []
  }
 ],
 "metadata": {
  "kernelspec": {
   "display_name": "Python 3 (ipykernel)",
   "language": "python",
   "name": "python3"
  },
  "language_info": {
   "codemirror_mode": {
    "name": "ipython",
    "version": 3
   },
   "file_extension": ".py",
   "mimetype": "text/x-python",
   "name": "python",
   "nbconvert_exporter": "python",
   "pygments_lexer": "ipython3",
   "version": "3.12.0"
  }
 },
 "nbformat": 4,
 "nbformat_minor": 5
}
